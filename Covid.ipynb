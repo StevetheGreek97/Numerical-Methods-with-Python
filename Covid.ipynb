{
 "cells": [
  {
   "cell_type": "markdown",
   "id": "98f6c44b",
   "metadata": {},
   "source": [
    "## The SIR-model applied to the Corona-pandemic"
   ]
  },
  {
   "cell_type": "markdown",
   "id": "7457ad49",
   "metadata": {},
   "source": [
    "In epidemiology, the SIR-model is a simple compartmental model that can be applied to an outbreak like the Corona-pandemic.\n",
    "\n",
    "This model distinguishes Susceptible, Infected, and Recovered (or Removed) fractions of the population. Susceptible people can get infected, and infected persons eventually recover (or die), but do not become infected again.\n",
    "\n",
    "<img src=\"https://dl.acm.org/cms/attachment/beab90df-5276-4223-9e65-682ac8013686/image1.png\" width=\"50%\" height=\"50%\">\n",
    "\n",
    "The fraction that newly catches the disease is proportional to both the available susceptible fraction that can acquire the disease (S) and the infected fraction that can transfer the disease (I): [S→I]=α⋅S⋅I, where α is the infection rate. <br>\n",
    "<br>\n",
    "The population fraction that recovers (or dies) is proportional to only the fraction of infected people itself (I): [I→R]=β⋅I, where β is the recovery rate.<br>\n",
    "<br>\n",
    "\n",
    "Thus, we obtain a set of differential equations:\n",
    "  "
   ]
  },
  {
   "cell_type": "markdown",
   "id": "c0a0ecb2",
   "metadata": {},
   "source": [
    "\n",
    "<li> d/dt S = − α⋅S⋅I  </li>\n",
    "<li> d/dt I=+α⋅S⋅I−β⋅I  </li>\n",
    "<li> d/dt R=+β⋅I  </li>\n",
    "   \n",
    "For Covid-19, estimated infection and recovery rates are not well known, but during the initial phases of the pandemic these amounted to approximately α=0.25 day-1 and β=0.10 day<sup>-1</sup>."
   ]
  },
  {
   "cell_type": "code",
   "execution_count": 1,
   "id": "e65a22b7",
   "metadata": {},
   "outputs": [],
   "source": [
    "import numpy as np\n",
    "import matplotlib.pyplot as plt"
   ]
  },
  {
   "cell_type": "code",
   "execution_count": 2,
   "id": "25b862a4",
   "metadata": {},
   "outputs": [],
   "source": [
    "def SIR_Model(t, y):\n",
    "    return np.array([\n",
    "        -(0.25) * y[0] * y[1],               # Suseptible\n",
    "         (0.25) * y[0] * y[1] - 0.10 * y[1], # Infected\n",
    "         (0.10) * y[1]                       # Recovered\n",
    "    ])\n"
   ]
  },
  {
   "cell_type": "code",
   "execution_count": 3,
   "id": "c6ca1ef7",
   "metadata": {},
   "outputs": [],
   "source": [
    "def Kutta(f, y0, t, h):\n",
    "    \n",
    "    steps = int(t / h) + 1\n",
    "    h = t / steps\n",
    "\n",
    "    xs = np.linspace(0, t, steps + 1)\n",
    "    y = y0\n",
    "    for x in xs[:-1]:\n",
    "        k0 = f(x, y)\n",
    "        k1 = f(x + (h/2) , y + (h/2)*k0)\n",
    "        k2 = f(x + (h/2) , y + (-h)*k0 + 2*h*k1 )\n",
    "        y = y + (h*(k0 + 4*k1 + k2))/ 6\n",
    "    return  y"
   ]
  },
  {
   "cell_type": "code",
   "execution_count": 4,
   "id": "49e54944",
   "metadata": {},
   "outputs": [],
   "source": [
    "def model(t):\n",
    "    return Kutta(SIR_Model, np.array([0.99, 0.01, 0.0]), t, h = 0.25)"
   ]
  },
  {
   "cell_type": "code",
   "execution_count": 5,
   "id": "45c9bece",
   "metadata": {},
   "outputs": [],
   "source": [
    "ts = np.linspace(0,150,1000)\n",
    "ys = [model(t) for t in ts]"
   ]
  },
  {
   "cell_type": "code",
   "execution_count": 6,
   "id": "a2c42479",
   "metadata": {},
   "outputs": [
    {
     "data": {
      "image/png": "[encoded data removed]",
      "text/plain": [
       "<Figure size 432x288 with 1 Axes>"
      ]
     },
     "metadata": {
      "needs_background": "light"
     },
     "output_type": "display_data"
    }
   ],
   "source": [
    "plt.plot(ts, ys)\n",
    "plt.legend(['Suseptiple', 'Infected', 'Recovered'])\n",
    "plt.show()"
   ]
  },
  {
   "cell_type": "code",
   "execution_count": 7,
   "id": "9fcf08c1",
   "metadata": {},
   "outputs": [],
   "source": [
    "def Suseptible(t):\n",
    "    return model(t)[0]\n",
    "def Infected(t):\n",
    "    return model(t)[1]\n",
    "def Recovered(t):\n",
    "    return model(t)[2]\n",
    "def equal(t):\n",
    "    return model(t)[0] - model(t)[2]\n",
    "    "
   ]
  },
  {
   "cell_type": "code",
   "execution_count": 8,
   "id": "fad2487c",
   "metadata": {},
   "outputs": [],
   "source": [
    "ys = [Infected(t) for t in ts]"
   ]
  },
  {
   "cell_type": "code",
   "execution_count": 9,
   "id": "96413f51",
   "metadata": {},
   "outputs": [],
   "source": [
    "def maximumsearch(f, a, b, steps):\n",
    "    \"\"\"lo, hi = minimumsearch(f, a, b, steps).\n",
    "    Searches the interval (a,b) in a number of steps for\n",
    "    the bounds (lo,hi) of the minima of f(x).\n",
    "    \"\"\"\n",
    "    if steps < 2:\n",
    "        steps = 2\n",
    "    h = (b- a) / steps\n",
    "    lo = a\n",
    "    md = a + h \n",
    "    f_lo = f(lo)\n",
    "    f_md = f(md)\n",
    "    for i in range(2, steps +1):\n",
    "        hi = a + h * i\n",
    "        f_hi = f(hi)\n",
    "        \n",
    "        if f_md > f_lo and f_md >= f_hi:  # if operant '>' algo finds maxima else finds minimum\n",
    "            yield lo, hi\n",
    "            \n",
    "        lo, f_lo = md, f_md    \n",
    "        md, f_md= hi, f_hi"
   ]
  },
  {
   "cell_type": "code",
   "execution_count": 10,
   "id": "ea56e05d",
   "metadata": {},
   "outputs": [],
   "source": [
    "from math import sqrt\n",
    "# Slower than bisection\n",
    "def golden_search(f, a, b, tol=1e-8):\n",
    "    \"\"\"minimum = golden_search(f, a, b, tol=...).\n",
    "    Finds a minimum of the function f using golden\n",
    "    section search, starting from bracketing values\n",
    "    a and b and ending when |b-a| < tol.\n",
    "    \"\"\"\n",
    "    factor = (3.0 - sqrt(5.0)) / 2.0\n",
    "\n",
    "    x1 = a + factor * (b - a)\n",
    "    x2 = b - factor * (b - a)\n",
    "    f1 = f(x1)\n",
    "    f2 = f(x2)\n",
    "    while abs(b-a) > tol:\n",
    "        if f1 < f2: # if operant '>' algo finds maxima else finds minimum\n",
    "            b = x2\n",
    "            x2 = x1\n",
    "            f2 = f1\n",
    "            x1 = a + factor * (b - a)\n",
    "            f1 = f(x1)\n",
    "        else:\n",
    "            a = x1\n",
    "            x1 = x2\n",
    "            f1 = f2\n",
    "            x2 =  b - factor * (b - a)\n",
    "            f2 = f(x2)\n",
    "            \n",
    "            \n",
    "    return (a + b) / 2.0"
   ]
  },
  {
   "cell_type": "code",
   "execution_count": 11,
   "id": "81de95d0",
   "metadata": {},
   "outputs": [
    {
     "data": {
      "image/png": "[encoded data removed]",
      "text/plain": [
       "<Figure size 432x288 with 1 Axes>"
      ]
     },
     "metadata": {
      "needs_background": "light"
     },
     "output_type": "display_data"
    },
    {
     "name": "stdout",
     "output_type": "stream",
     "text": [
      "Covid Infections peaked at day: 32.500\n"
     ]
    }
   ],
   "source": [
    "plt.plot(ts, ys)\n",
    "\n",
    "# plt.axis([-6, 6, -6, 1])\n",
    "for (lo, hi) in list(maximumsearch(Infected, 10, 60, 100)):\n",
    "    xmin = golden_search(Infected,lo, hi, 1e-6)\n",
    "    ymin = Infected(xmin)\n",
    "    plt.plot(xmin, ymin, 'or')\n",
    "    plt.text(xmin, ymin, f'({xmin:.3f}, {ymin:.3f})', verticalalignment='top')\n",
    "plt.show()\n",
    "print(f'Covid Infections peaked at day: {xmin :.3f}')"
   ]
  },
  {
   "cell_type": "code",
   "execution_count": 12,
   "id": "53bb3742",
   "metadata": {},
   "outputs": [],
   "source": [
    "ys = [equal(t) for t in ts]"
   ]
  },
  {
   "cell_type": "code",
   "execution_count": 14,
   "id": "a5633e43",
   "metadata": {},
   "outputs": [],
   "source": [
    "def rootsearch(f, a, b, steps):\n",
    "    \"\"\"lo, hi = rootsearch(f, a, b, steps).\n",
    "    Searches the interval (a,b) in a number of steps for\n",
    "    the bounds (lo,hi) of the roots of f(x).\n",
    "    \"\"\"\n",
    "    h = (b - a) / steps\n",
    "    f_lo = f(a)\n",
    "    for step in range(steps):\n",
    "        lo = a + step * h\n",
    "        hi = lo + h\n",
    "        f_hi = f(hi)\n",
    "        if f_lo * f_hi <= 0.0:\n",
    "            yield lo, hi\n",
    "        f_lo = f_hi"
   ]
  },
  {
   "cell_type": "code",
   "execution_count": 15,
   "id": "9d907fdb",
   "metadata": {},
   "outputs": [],
   "source": [
    "\n",
    "def ridder(f,a,b,tol=1.0e-9):\n",
    "    \n",
    "    lo, f_lo = a, f(a)\n",
    "    if f_lo == 0.0:\n",
    "        return lo\n",
    "    hi, f_hi = b, f(b)\n",
    "    if f_hi == 0.0:\n",
    "        return hi\n",
    "    if f_lo * f_hi > 0.0:\n",
    "        raise ValueError('Root is not bracketed')\n",
    "        \n",
    "    while abs(hi - lo) > tol:\n",
    "        mid = (hi + lo) / 2.0\n",
    "        f_mid = f(mid)\n",
    "        \n",
    "        s= np.sqrt(f_mid**2 - f_lo*f_hi)\n",
    "        if s == 0.0:\n",
    "            return None\n",
    "        dx = (mid - lo)*f_mid/s\n",
    "        if (f_lo - f_hi) < 0.0:\n",
    "            dx = -dx\n",
    "        x = mid + dx\n",
    "        fx = f(x)\n",
    "        if (f_mid * fx > 0):\n",
    "            if (f_lo * fx < 0):\n",
    "                hi = x\n",
    "                f_hi = f(hi)\n",
    "            else:\n",
    "                lo = x\n",
    "                f_lo = f(lo)\n",
    "        else:\n",
    "            lo, hi, f_lo, f_hi = mid, x, f_mid, fx\n",
    "    return x"
   ]
  },
  {
   "cell_type": "code",
   "execution_count": 16,
   "id": "69600b2a",
   "metadata": {},
   "outputs": [
    {
     "data": {
      "image/png": "[encoded data removed]",
      "text/plain": [
       "<Figure size 432x288 with 1 Axes>"
      ]
     },
     "metadata": {
      "needs_background": "light"
     },
     "output_type": "display_data"
    },
    {
     "name": "stdout",
     "output_type": "stream",
     "text": [
      "Suseptible and Recoveries where the same at day: 33.818\n"
     ]
    }
   ],
   "source": [
    "plt.plot(ts, ys)\n",
    "for (lo, hi) in list(rootsearch(equal, 20, 60, 100)):\n",
    "    xmin = ridder(equal,lo, hi, 1e-3)\n",
    "    ymin = equal(xmin)\n",
    "    plt.plot(xmin, ymin, 'or')\n",
    "    plt.text(xmin, ymin, f'({xmin:.3f}, {ymin:.3f})', verticalalignment='top')\n",
    "    \n",
    "\n",
    "plt.show()\n",
    "print(f'Suseptible and Recoveries where the same at day: {xmin :.3f}')"
   ]
  },
  {
   "cell_type": "code",
   "execution_count": 69,
   "id": "a22e5234",
   "metadata": {},
   "outputs": [
    {
     "data": {
      "text/plain": [
       "'0x1.0e8b439581062p+5'"
      ]
     },
     "execution_count": 69,
     "metadata": {},
     "output_type": "execute_result"
    }
   ],
   "source": [
    "day = 33.818\n",
    "day.hex()"
   ]
  },
  {
   "cell_type": "code",
   "execution_count": 48,
   "id": "508b1be0",
   "metadata": {},
   "outputs": [
    {
     "data": {
      "text/plain": [
       "33.818"
      ]
     },
     "execution_count": 48,
     "metadata": {},
     "output_type": "execute_result"
    }
   ],
   "source": [
    " (1 + 0/16**1 + 14/16**2+ 8/16**3 + \\\n",
    "      11/16**4 + 4/16**5 +          \\\n",
    "      3/16**6 + 9/16**7 + 5/16**8 + \\\n",
    "      8/16**9 + 1/16**10+ 0/16**11 +\\\n",
    "      6/16**12 + 2/16**13 ) * 2.0**5"
   ]
  },
  {
   "cell_type": "markdown",
   "id": "a8e6f61e",
   "metadata": {},
   "source": [
    "or"
   ]
  },
  {
   "cell_type": "code",
   "execution_count": 68,
   "id": "08de76ac",
   "metadata": {},
   "outputs": [
    {
     "name": "stdout",
     "output_type": "stream",
     "text": [
      "33.818\n"
     ]
    }
   ],
   "source": [
    "print(float.fromhex('0x1.0e8b439581062p+5'))"
   ]
  },
  {
   "cell_type": "code",
   "execution_count": 65,
   "id": "93cffa5b",
   "metadata": {},
   "outputs": [
    {
     "name": "stdout",
     "output_type": "stream",
     "text": [
      "16 1\n",
      "8 0\n",
      "4 0\n",
      "2 0\n",
      "1 0\n",
      "0 1\n",
      "33 to binary: 100001\n",
      "0b100001\n"
     ]
    }
   ],
   "source": [
    "print(33//2, 33%2)\n",
    "print(16//2, 16%2)\n",
    "print(8//2 , 8%2)\n",
    "print(4//2 , 4%2)\n",
    "print(2//2 , 2%2)\n",
    "print(1//2 , 1%2)\n",
    "print('33 to binary: 100001')\n",
    "print(bin(33))"
   ]
  },
  {
   "cell_type": "code",
   "execution_count": 66,
   "id": "a5b44af2",
   "metadata": {},
   "outputs": [
    {
     "data": {
      "text/plain": [
       "33.818"
      ]
     },
     "execution_count": 66,
     "metadata": {},
     "output_type": "execute_result"
    }
   ],
   "source": []
  },
  {
   "cell_type": "code",
   "execution_count": 44,
   "id": "64ae0f9b",
   "metadata": {},
   "outputs": [
    {
     "name": "stdout",
     "output_type": "stream",
     "text": [
      "1.636 0.636 1\n",
      "1.272 0.272 1\n",
      "0.544 0.544 0\n",
      "1.088 0.088 1\n",
      "0.176 0.176 0\n",
      "0.352 0.352 0\n",
      "\n",
      "0.818 is almost: 110100\n"
     ]
    }
   ],
   "source": [
    "print(0.818*2, 0.636, 1)\n",
    "print(0.636*2, 0.272, 1)\n",
    "print(0.272*2, 0.544, 0)\n",
    "print(0.544*2, 0.088, 1)\n",
    "print(0.088*2, 0.176, 0)\n",
    "print(0.176*2, 0.352, 0)\n",
    "print()\n",
    "print('0.818 is almost: 110100')"
   ]
  },
  {
   "cell_type": "code",
   "execution_count": 45,
   "id": "75be76e2",
   "metadata": {},
   "outputs": [
    {
     "name": "stdout",
     "output_type": "stream",
     "text": [
      "33.818 is almost 100001.110100\n"
     ]
    }
   ],
   "source": [
    "print('33.818 is almost 100001.110100')"
   ]
  },
  {
   "cell_type": "markdown",
   "id": "92f39d21",
   "metadata": {},
   "source": [
    "scientific notation 1.00001110100 x2^5"
   ]
  },
  {
   "cell_type": "code",
   "execution_count": 19,
   "id": "fad6e1c2",
   "metadata": {},
   "outputs": [],
   "source": [
    "def simpson(f, a, b, n=100):\n",
    "    \"\"\"df = simpson(f, a, b, n=...).\n",
    "    Calculates the definite integral of the function f(x)\n",
    "    from a to b using the composite Simpson's\n",
    "    rule with n subdivisions (with default n=...).\n",
    "    \"\"\"\n",
    "    \n",
    "    n += n % 2 # force to be even\n",
    "    \n",
    "    h = (b -a) / n \n",
    "    \n",
    "    I = f(a) + f(b)\n",
    "    \n",
    "    for i in range(1, n, 2):\n",
    "        xi = a + i*h\n",
    "        I += 4*f(xi)\n",
    "        \n",
    "    for i in range(2, n, 2):\n",
    "        xi = a + i*h\n",
    "        I += 2*f(xi)\n",
    "    I *= h/3\n",
    "    \n",
    "    return I"
   ]
  },
  {
   "cell_type": "code",
   "execution_count": 22,
   "id": "46cdc335",
   "metadata": {},
   "outputs": [
    {
     "name": "stdout",
     "output_type": "stream",
     "text": [
      "The auc for infections from day 5 to day 60 is : 7.847\n"
     ]
    }
   ],
   "source": [
    "auc = simpson(Infected, 5, 60)\n",
    "print(f'The auc for infections from day 5 to day 60 is : {auc :.3f}')"
   ]
  },
  {
   "cell_type": "code",
   "execution_count": 54,
   "id": "6e580971",
   "metadata": {},
   "outputs": [
    {
     "data": {
      "text/plain": [
       "150.0"
      ]
     },
     "execution_count": 54,
     "metadata": {},
     "output_type": "execute_result"
    }
   ],
   "source": [
    "simpson(Infected, 0, 150) + simpson(Recovered, 0, 150) + simpson(Suseptible, 0, 150)"
   ]
  },
  {
   "cell_type": "code",
   "execution_count": 50,
   "id": "59491801",
   "metadata": {},
   "outputs": [
    {
     "data": {
      "text/plain": [
       "99.27146430487679"
      ]
     },
     "execution_count": 50,
     "metadata": {},
     "output_type": "execute_result"
    }
   ],
   "source": [
    "simpson(Recovered, 0, 150)"
   ]
  },
  {
   "cell_type": "code",
   "execution_count": 51,
   "id": "260965a0",
   "metadata": {},
   "outputs": [
    {
     "data": {
      "text/plain": [
       "41.78891068602636"
      ]
     },
     "execution_count": 51,
     "metadata": {},
     "output_type": "execute_result"
    }
   ],
   "source": [
    "simpson(Suseptible, 0, 150)"
   ]
  },
  {
   "cell_type": "code",
   "execution_count": null,
   "id": "02f293d6",
   "metadata": {},
   "outputs": [],
   "source": []
  }
 ],
 "metadata": {
  "kernelspec": {
   "display_name": "Python 3 (ipykernel)",
   "language": "python",
   "name": "python3"
  },
  "language_info": {
   "codemirror_mode": {
    "name": "ipython",
    "version": 3
   },
   "file_extension": ".py",
   "mimetype": "text/x-python",
   "name": "python",
   "nbconvert_exporter": "python",
   "pygments_lexer": "ipython3",
   "version": "3.7.9"
  }
 },
 "nbformat": 4,
 "nbformat_minor": 5
}
